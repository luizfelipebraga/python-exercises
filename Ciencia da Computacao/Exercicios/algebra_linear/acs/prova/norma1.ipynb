{
 "cells": [
  {
   "cell_type": "code",
   "execution_count": 1,
   "metadata": {},
   "outputs": [
    {
     "name": "stdout",
     "output_type": "stream",
     "text": [
      "8.0\n",
      "5.196152422706632\n"
     ]
    }
   ],
   "source": [
    "from numpy import linalg as LA\n",
    "import numpy as np\n",
    "\n",
    "#A)\n",
    "u = np.array([2,-2,1,3,0])\n",
    "A= np.linalg.norm(u,1)\n",
    "A= LA.norm(u,1)\n",
    "print(A)\n",
    "\n",
    "#B)\n",
    "v = np.array([1,1,-1,0,2])\n",
    "distancia = np.linalg.norm(u-v)\n",
    "\n",
    "print(distancia)"
   ]
  }
 ],
 "metadata": {
  "interpreter": {
   "hash": "916dbcbb3f70747c44a77c7bcd40155683ae19c65e1c03b4aa3499c5328201f1"
  },
  "kernelspec": {
   "display_name": "Python 3.9.5 64-bit",
   "language": "python",
   "name": "python3"
  },
  "language_info": {
   "codemirror_mode": {
    "name": "ipython",
    "version": 3
   },
   "file_extension": ".py",
   "mimetype": "text/x-python",
   "name": "python",
   "nbconvert_exporter": "python",
   "pygments_lexer": "ipython3",
   "version": "3.9.5"
  },
  "orig_nbformat": 4
 },
 "nbformat": 4,
 "nbformat_minor": 2
}
