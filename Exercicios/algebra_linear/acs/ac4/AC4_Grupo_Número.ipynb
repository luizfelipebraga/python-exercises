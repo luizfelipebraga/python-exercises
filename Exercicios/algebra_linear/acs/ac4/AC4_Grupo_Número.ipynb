{
 "cells": [
  {
   "cell_type": "code",
   "execution_count": 6,
   "metadata": {},
   "outputs": [
    {
     "name": "stdout",
     "output_type": "stream",
     "text": [
      "Lista de autovalores: \n",
      " [ 1.61168440e+01 -1.11684397e+00 -1.30367773e-15]\n",
      "\n",
      "Lista de autovetores: \n",
      " [[-0.23197069 -0.78583024  0.40824829]\n",
      " [-0.52532209 -0.08675134 -0.81649658]\n",
      " [-0.8186735   0.61232756  0.40824829]]\n",
      "\n",
      "[ -3.73863537  -8.46653421 -13.19443305]\n"
     ]
    }
   ],
   "source": [
    "import numpy as np\n",
    "from numpy import linalg as LA\n",
    "\n",
    "A = np.array([[1, 2, 3], \n",
    "              [4,5,6], \n",
    "              [7,8,9]])\n",
    "\n",
    "autovalores, autovetores = LA.eig(A)\n",
    "print(\"Lista de autovalores: \\n\", autovalores)  \n",
    "print('')\n",
    "print(\"Lista de autovetores: \\n\", autovetores)\n",
    "print('')\n",
    "C = autovetores[:,0]*autovalores[0]\n",
    "print(C)"
   ]
  },
  {
   "cell_type": "code",
   "execution_count": null,
   "metadata": {},
   "outputs": [],
   "source": [
    "def gauss_seidel(a, b, vetorSolucao, iteracoes):\n",
    "  iteracao = 0\n",
    "  while iteracao < iteracoes:\n",
    "    for i in range(len(a)):\n",
    "      x = b[i]\n",
    "      for j in range(len(a)):\n",
    "        if i != j:\n",
    "          x -= a[i][j]*vetorSolucao[j]\n",
    "      x/=a[i][j]\n",
    "      vetorSolucao[i] = x\n",
    "    iteracao += 1\n",
    "  \n",
    "  print(vetorSolucao)"
   ]
  },
  {
   "cell_type": "code",
   "execution_count": 5,
   "metadata": {},
   "outputs": [
    {
     "name": "stdout",
     "output_type": "stream",
     "text": [
      "aa [[ 1.61168440e+01  0.00000000e+00  0.00000000e+00]\n",
      " [ 0.00000000e+00 -1.11684397e+00  0.00000000e+00]\n",
      " [ 0.00000000e+00  0.00000000e+00 -1.30367773e-15]]\n",
      "bb [[1. 2. 3.]\n",
      " [4. 5. 6.]\n",
      " [7. 8. 9.]]\n"
     ]
    }
   ],
   "source": [
    "#Copiar a matriz\n",
    "Q = autovetores\n",
    "#Criar a inversa da matriz\n",
    "R = LA.inv(Q)\n",
    "#Criar a matriz Diagonal a partir da lista de autovalores\n",
    "L = np.diag(autovalores)\n",
    "print('aa',L)\n",
    "#Reconstruir a matriz original a\n",
    "B = Q.dot(L).dot(R)\n",
    "print('bb',B)\n"
   ]
  }
 ],
 "metadata": {
  "interpreter": {
   "hash": "916dbcbb3f70747c44a77c7bcd40155683ae19c65e1c03b4aa3499c5328201f1"
  },
  "kernelspec": {
   "display_name": "Python 3.9.5 64-bit",
   "language": "python",
   "name": "python3"
  },
  "language_info": {
   "codemirror_mode": {
    "name": "ipython",
    "version": 3
   },
   "file_extension": ".py",
   "mimetype": "text/x-python",
   "name": "python",
   "nbconvert_exporter": "python",
   "pygments_lexer": "ipython3",
   "version": "3.9.5"
  },
  "orig_nbformat": 4
 },
 "nbformat": 4,
 "nbformat_minor": 2
}
